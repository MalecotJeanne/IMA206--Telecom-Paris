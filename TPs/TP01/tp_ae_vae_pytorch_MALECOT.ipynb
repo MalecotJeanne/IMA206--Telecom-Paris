{
  "cells": [
    {
      "attachments": {},
      "cell_type": "markdown",
      "metadata": {
        "id": "TdpPHz2Lp6VD"
      },
      "source": [
        "# TP Coding autoencoders and variational autoencoders in Pytorch\n",
        "\n",
        "\n",
        "Author : Alasdair Newson\n",
        "\n",
        "alasdair.newson@telecom-paris.fr\n",
        "\n",
        "## Objective:\n",
        "\n",
        "The goal of this TP is to explore autoencoders and variational autoencoders applied to a simple dataset. In this first part, we will look at an autoencoder applied to MNIST. We recall that an autoencoder is a neural network with the following general architecture:\n",
        "\n",
        "\n",
        "![AUTOENCODER](https://perso.telecom-paristech.fr/anewson/doc/images/autoencoder_illustration_2.png)\n",
        "\n",
        "The tensor $z$ in the middle of the network is called a __latent code__, and it belongs to the latent space. It is this latent space which is interesting in autoencoders (for image synthesis, editing, etc).\n",
        "\n",
        "### Your task:\n",
        "You need to add the missing parts in the code (parts between # --- START CODE HERE and # --- END CODE HERE or # FILL IN CODE)\n",
        "\n",
        "\n",
        "First of all, let's load some packages"
      ]
    },
    {
      "cell_type": "code",
      "execution_count": 58,
      "metadata": {
        "id": "JqNeIJ8Op8Ao"
      },
      "outputs": [],
      "source": [
        "import torch\n",
        "import torch.nn as nn\n",
        "import torch.nn.functional as F\n",
        "import torch.optim as optim\n",
        "from torchvision import datasets, transforms\n",
        "from torch.autograd import Variable\n",
        "from torchvision.utils import save_image\n",
        "\n",
        "import pdb\n",
        "import numpy as np\n",
        "import matplotlib.pyplot as plt\n",
        "\n",
        "def pytorch_to_numpy(x):\n",
        "  return x.detach().numpy()"
      ]
    },
    {
      "attachments": {},
      "cell_type": "markdown",
      "metadata": {
        "id": "Hyj5dj_eui9D"
      },
      "source": [
        "First, we load the mnist dataset."
      ]
    },
    {
      "cell_type": "code",
      "execution_count": 59,
      "metadata": {
        "id": "4YPLKlPrufSk"
      },
      "outputs": [],
      "source": [
        "batch_size = 128\n",
        "\n",
        "# MNIST Dataset\n",
        "mnist_trainset = datasets.MNIST(root='./mnist_data/', train=True, transform=transforms.ToTensor(), download=True)\n",
        "mnist_testset = datasets.MNIST(root='./mnist_data/', train=False, transform=transforms.ToTensor(), download=False)\n",
        "\n",
        "#create data loader with smaller dataset size\n",
        "max_mnist_size = 1000\n",
        "mnist_trainset_reduced = torch.utils.data.random_split(mnist_trainset, [max_mnist_size, len(mnist_trainset)-max_mnist_size])[0] \n",
        "mnist_train_loader = torch.utils.data.DataLoader(mnist_trainset_reduced, batch_size=batch_size, shuffle=True,drop_last=True)\n",
        "\n",
        "# download test dataset\n",
        "max_mnist_size = 512\n",
        "mnist_testset_reduced = torch.utils.data.random_split(mnist_testset, [max_mnist_size, len(mnist_testset)-max_mnist_size])[0] \n",
        "mnist_test_loader = torch.utils.data.DataLoader(mnist_testset_reduced, batch_size=batch_size, shuffle=True,drop_last=True)\n"
      ]
    },
    {
      "cell_type": "code",
      "execution_count": 60,
      "metadata": {
        "id": "r7YhlBT2PN9I"
      },
      "outputs": [
        {
          "name": "stderr",
          "output_type": "stream",
          "text": [
            "C:\\Users\\jeann\\AppData\\Local\\Packages\\PythonSoftwareFoundation.Python.3.10_qbz5n2kfra8p0\\LocalCache\\local-packages\\Python310\\site-packages\\torchvision\\datasets\\mnist.py:75: UserWarning: train_data has been renamed data\n",
            "  warnings.warn(\"train_data has been renamed data\")\n"
          ]
        },
        {
          "data": {
            "text/plain": [
              "torch.Size([60000, 28, 28])"
            ]
          },
          "execution_count": 60,
          "metadata": {},
          "output_type": "execute_result"
        }
      ],
      "source": [
        "mnist_trainset_reduced.dataset.train_data.shape"
      ]
    },
    {
      "attachments": {},
      "cell_type": "markdown",
      "metadata": {
        "id": "t-bkK4ktwfvC"
      },
      "source": [
        "# 1 Vanilla Autoencoder\n",
        "\n",
        "Now, we define the general parameters of the autoencoder"
      ]
    },
    {
      "cell_type": "code",
      "execution_count": 61,
      "metadata": {
        "id": "mD56EDzbvUxq"
      },
      "outputs": [],
      "source": [
        "# autoencoder parameters\n",
        "n_rows = mnist_trainset_reduced.dataset.train_data.shape[1]\n",
        "n_cols = mnist_trainset_reduced.dataset.train_data.shape[2]\n",
        "n_channels = 1\n",
        "n_pixels = n_rows*n_cols\n",
        "\n",
        "img_shape = (n_rows, n_cols, n_channels)\n",
        "n_epochs = 150"
      ]
    },
    {
      "attachments": {},
      "cell_type": "markdown",
      "metadata": {
        "id": "6jLa2-jQwxSI"
      },
      "source": [
        "Now, define the autoencoder architecture. In the first part, we will use the following MLP architecture :\n",
        "\n",
        "Encoder :\n",
        "- Flatten input\n",
        "- Dense layer, output size h_dim_1 + ReLU\n",
        "- Dense layer, output size h_dim_2 + ReLU\n",
        "- Dense layer, output size z_dim (no non-linearity)\n",
        "\n",
        "Decoder :\n",
        "- Dense layer, output size h_dim_2 + ReLU\n",
        "- Dense layer, output size h_dim_1 + ReLU\n",
        "- Dense layer, output size x_dim + Sigmoid Activation\n",
        "- Reshape, to size $28\\times 28\\times 1$\n",
        "\n",
        "For the Reshape operation, use the ```A.view(dim_1,dim_2,...)``` function, where ```A``` is your tensor."
      ]
    },
    {
      "cell_type": "code",
      "execution_count": 62,
      "metadata": {
        "id": "tEuZfnUlXxMl"
      },
      "outputs": [],
      "source": [
        "class AE(torch.nn.Module ):\n",
        "  def __init__(self, x_dim, h_dim1, h_dim2, z_dim,n_rows,n_cols,n_channels):\n",
        "    super(AE, self).__init__()\n",
        "\n",
        "    self.n_rows = n_rows\n",
        "    self.n_cols = n_cols\n",
        "    self.n_channels = n_channels\n",
        "    self.n_pixels = (self.n_rows)*(self.n_cols)\n",
        "    self.z_dim = z_dim\n",
        "\n",
        "    # encoder part\n",
        "    self.fc1 = nn.Linear(x_dim, h_dim1)\n",
        "    self.fc2 = nn.Linear(h_dim1, h_dim2)\n",
        "    self.fc3 = nn.Linear(h_dim2, z_dim)\n",
        "    # decoder part\n",
        "    self.fc4 = nn.Linear(z_dim, h_dim2)\n",
        "    self.fc5 = nn.Linear(h_dim2, h_dim1)\n",
        "    self.fc6 = nn.Linear(h_dim1, x_dim)\n",
        "\n",
        "  def encoder(self, x):\n",
        "    h = F.relu(self.fc1(x))\n",
        "    h = F.relu(self.fc2(h))\n",
        "    return self.fc3(h)\n",
        "  def decoder(self, z):\n",
        "    h = F.relu(self.fc4(z))\n",
        "    h = F.relu(self.fc5(h))\n",
        "    return F.sigmoid(self.fc6(h))\n",
        "  def forward(self, x):\n",
        "    y = self.decoder(self.encoder(x.view(-1, self.n_pixels))).view(-1, self.n_channels, self.n_rows, self.n_cols)\n",
        "    return(y)\n",
        "  def loss_function(self,x, y):\n",
        "    bce_loss = F.binary_cross_entropy(y, x, reduction='sum')\n",
        "    return torch.mean(bce_loss)"
      ]
    },
    {
      "cell_type": "code",
      "execution_count": 63,
      "metadata": {
        "id": "oV40vRMQRoG1"
      },
      "outputs": [],
      "source": [
        "# create model\n",
        "ae_dim_1 = 512\n",
        "ae_dim_2 = 256\n",
        "z_dim = 10\n",
        "ae_model = AE(x_dim=n_pixels, h_dim1= ae_dim_1, h_dim2=ae_dim_2, z_dim=z_dim,n_rows=n_rows,n_cols=n_cols,n_channels=n_channels)\n",
        "ae_optimizer = optim.Adam(ae_model.parameters())"
      ]
    },
    {
      "attachments": {},
      "cell_type": "markdown",
      "metadata": {
        "id": "-659aM36xvXX"
      },
      "source": [
        "Now, define a generic function to train the model for one epoch"
      ]
    },
    {
      "cell_type": "code",
      "execution_count": 64,
      "metadata": {
        "id": "wfqX6Brlxjyi"
      },
      "outputs": [],
      "source": [
        "def train_ae(ae_model,data_train_loader,epoch):\n",
        "\ttrain_loss = 0\n",
        "\tfor batch_idx, (data, _) in enumerate(data_train_loader):\n",
        "\t\tae_optimizer.zero_grad()\n",
        "\t\t\n",
        "\t\ty = ae_model(data)\n",
        "\t\tloss_ae = ae_model.loss_function(data, y)\n",
        "  \n",
        "\t\tloss_ae.backward()\n",
        "\t\ttrain_loss += loss_ae.item()\n",
        "\t\tae_optimizer.step()\n",
        "\t\t\n",
        "\t\tif batch_idx % 100 == 0:\n",
        "\t\t\tprint('Train Epoch: {} [{}/{} ({:.0f}%)]\\tLoss: {:.6f}'.format(\n",
        "\t\t\t\tepoch, batch_idx * len(data), len(data_train_loader.dataset),\n",
        "\t\t\t\t100. * batch_idx / len(data_train_loader), loss_ae.item() / len(data)))\n",
        "\tprint('====> Epoch: {} Average loss: {:.4f}'.format(epoch, train_loss / len(data_train_loader.dataset)))\n"
      ]
    },
    {
      "attachments": {},
      "cell_type": "markdown",
      "metadata": {
        "id": "w3EbmswSzJdK"
      },
      "source": [
        "We define a function to carry out testing on the autoencoder model"
      ]
    },
    {
      "cell_type": "code",
      "execution_count": 65,
      "metadata": {
        "id": "11q_0PSibZk-"
      },
      "outputs": [
        {
          "name": "stdout",
          "output_type": "stream",
          "text": [
            "Train Epoch: 0 [0/1000 (0%)]\tLoss: 542.918213\n",
            "====> Epoch: 0 Average loss: 439.0405\n",
            "Train Epoch: 1 [0/1000 (0%)]\tLoss: 311.910217\n",
            "====> Epoch: 1 Average loss: 243.6623\n",
            "Train Epoch: 2 [0/1000 (0%)]\tLoss: 227.785248\n",
            "====> Epoch: 2 Average loss: 205.6061\n",
            "Train Epoch: 3 [0/1000 (0%)]\tLoss: 219.590149\n",
            "====> Epoch: 3 Average loss: 190.6898\n",
            "Train Epoch: 4 [0/1000 (0%)]\tLoss: 211.999817\n",
            "====> Epoch: 4 Average loss: 185.9787\n",
            "Train Epoch: 5 [0/1000 (0%)]\tLoss: 204.740341\n",
            "====> Epoch: 5 Average loss: 181.8096\n",
            "Train Epoch: 6 [0/1000 (0%)]\tLoss: 210.447479\n",
            "====> Epoch: 6 Average loss: 180.2067\n",
            "Train Epoch: 7 [0/1000 (0%)]\tLoss: 204.867493\n",
            "====> Epoch: 7 Average loss: 178.7414\n",
            "Train Epoch: 8 [0/1000 (0%)]\tLoss: 200.189209\n",
            "====> Epoch: 8 Average loss: 176.6806\n",
            "Train Epoch: 9 [0/1000 (0%)]\tLoss: 197.494263\n",
            "====> Epoch: 9 Average loss: 174.0945\n",
            "Train Epoch: 10 [0/1000 (0%)]\tLoss: 188.769852\n",
            "====> Epoch: 10 Average loss: 172.7715\n",
            "Train Epoch: 11 [0/1000 (0%)]\tLoss: 183.542603\n",
            "====> Epoch: 11 Average loss: 169.3323\n",
            "Train Epoch: 12 [0/1000 (0%)]\tLoss: 183.317673\n",
            "====> Epoch: 12 Average loss: 166.6177\n",
            "Train Epoch: 13 [0/1000 (0%)]\tLoss: 189.740570\n",
            "====> Epoch: 13 Average loss: 164.5023\n",
            "Train Epoch: 14 [0/1000 (0%)]\tLoss: 183.625656\n",
            "====> Epoch: 14 Average loss: 161.4691\n",
            "Train Epoch: 15 [0/1000 (0%)]\tLoss: 183.016708\n",
            "====> Epoch: 15 Average loss: 159.3742\n",
            "Train Epoch: 16 [0/1000 (0%)]\tLoss: 173.478683\n",
            "====> Epoch: 16 Average loss: 154.6367\n",
            "Train Epoch: 17 [0/1000 (0%)]\tLoss: 166.033279\n",
            "====> Epoch: 17 Average loss: 150.6718\n",
            "Train Epoch: 18 [0/1000 (0%)]\tLoss: 164.745697\n",
            "====> Epoch: 18 Average loss: 146.9481\n",
            "Train Epoch: 19 [0/1000 (0%)]\tLoss: 167.862671\n",
            "====> Epoch: 19 Average loss: 144.2681\n",
            "Train Epoch: 20 [0/1000 (0%)]\tLoss: 154.136444\n",
            "====> Epoch: 20 Average loss: 141.6639\n",
            "Train Epoch: 21 [0/1000 (0%)]\tLoss: 152.663300\n",
            "====> Epoch: 21 Average loss: 139.3835\n",
            "Train Epoch: 22 [0/1000 (0%)]\tLoss: 154.623795\n",
            "====> Epoch: 22 Average loss: 136.7204\n",
            "Train Epoch: 23 [0/1000 (0%)]\tLoss: 154.668350\n",
            "====> Epoch: 23 Average loss: 131.9711\n",
            "Train Epoch: 24 [0/1000 (0%)]\tLoss: 141.656677\n",
            "====> Epoch: 24 Average loss: 128.1286\n",
            "Train Epoch: 25 [0/1000 (0%)]\tLoss: 147.285553\n",
            "====> Epoch: 25 Average loss: 125.7317\n",
            "Train Epoch: 26 [0/1000 (0%)]\tLoss: 137.123840\n",
            "====> Epoch: 26 Average loss: 123.6413\n",
            "Train Epoch: 27 [0/1000 (0%)]\tLoss: 136.012833\n",
            "====> Epoch: 27 Average loss: 121.8675\n",
            "Train Epoch: 28 [0/1000 (0%)]\tLoss: 133.752197\n",
            "====> Epoch: 28 Average loss: 120.2395\n",
            "Train Epoch: 29 [0/1000 (0%)]\tLoss: 135.874939\n",
            "====> Epoch: 29 Average loss: 118.2917\n",
            "Train Epoch: 30 [0/1000 (0%)]\tLoss: 131.271927\n",
            "====> Epoch: 30 Average loss: 116.8122\n",
            "Train Epoch: 31 [0/1000 (0%)]\tLoss: 136.005936\n",
            "====> Epoch: 31 Average loss: 115.1825\n",
            "Train Epoch: 32 [0/1000 (0%)]\tLoss: 126.232834\n",
            "====> Epoch: 32 Average loss: 113.3589\n",
            "Train Epoch: 33 [0/1000 (0%)]\tLoss: 129.237701\n",
            "====> Epoch: 33 Average loss: 112.2660\n",
            "Train Epoch: 34 [0/1000 (0%)]\tLoss: 122.005272\n",
            "====> Epoch: 34 Average loss: 111.0847\n",
            "Train Epoch: 35 [0/1000 (0%)]\tLoss: 118.262009\n",
            "====> Epoch: 35 Average loss: 108.4647\n",
            "Train Epoch: 36 [0/1000 (0%)]\tLoss: 122.656662\n",
            "====> Epoch: 36 Average loss: 107.8997\n",
            "Train Epoch: 37 [0/1000 (0%)]\tLoss: 117.919128\n",
            "====> Epoch: 37 Average loss: 107.0970\n",
            "Train Epoch: 38 [0/1000 (0%)]\tLoss: 116.762955\n",
            "====> Epoch: 38 Average loss: 105.0349\n",
            "Train Epoch: 39 [0/1000 (0%)]\tLoss: 119.539291\n",
            "====> Epoch: 39 Average loss: 104.0027\n",
            "Train Epoch: 40 [0/1000 (0%)]\tLoss: 115.352890\n",
            "====> Epoch: 40 Average loss: 102.8431\n",
            "Train Epoch: 41 [0/1000 (0%)]\tLoss: 109.620026\n",
            "====> Epoch: 41 Average loss: 101.1543\n",
            "Train Epoch: 42 [0/1000 (0%)]\tLoss: 112.530014\n",
            "====> Epoch: 42 Average loss: 100.1930\n",
            "Train Epoch: 43 [0/1000 (0%)]\tLoss: 108.628174\n",
            "====> Epoch: 43 Average loss: 98.5081\n",
            "Train Epoch: 44 [0/1000 (0%)]\tLoss: 109.874138\n",
            "====> Epoch: 44 Average loss: 98.0292\n",
            "Train Epoch: 45 [0/1000 (0%)]\tLoss: 107.282822\n",
            "====> Epoch: 45 Average loss: 95.7828\n",
            "Train Epoch: 46 [0/1000 (0%)]\tLoss: 106.161438\n",
            "====> Epoch: 46 Average loss: 94.7947\n",
            "Train Epoch: 47 [0/1000 (0%)]\tLoss: 106.207840\n",
            "====> Epoch: 47 Average loss: 94.2086\n",
            "Train Epoch: 48 [0/1000 (0%)]\tLoss: 103.987396\n",
            "====> Epoch: 48 Average loss: 93.4247\n",
            "Train Epoch: 49 [0/1000 (0%)]\tLoss: 99.695053\n",
            "====> Epoch: 49 Average loss: 92.8907\n",
            "Train Epoch: 50 [0/1000 (0%)]\tLoss: 109.198471\n",
            "====> Epoch: 50 Average loss: 92.3675\n",
            "Train Epoch: 51 [0/1000 (0%)]\tLoss: 100.956818\n",
            "====> Epoch: 51 Average loss: 91.1188\n",
            "Train Epoch: 52 [0/1000 (0%)]\tLoss: 108.228142\n",
            "====> Epoch: 52 Average loss: 90.7141\n",
            "Train Epoch: 53 [0/1000 (0%)]\tLoss: 98.832184\n",
            "====> Epoch: 53 Average loss: 89.3060\n",
            "Train Epoch: 54 [0/1000 (0%)]\tLoss: 103.944473\n",
            "====> Epoch: 54 Average loss: 88.8749\n",
            "Train Epoch: 55 [0/1000 (0%)]\tLoss: 92.640427\n",
            "====> Epoch: 55 Average loss: 88.5193\n",
            "Train Epoch: 56 [0/1000 (0%)]\tLoss: 100.437523\n",
            "====> Epoch: 56 Average loss: 87.7443\n",
            "Train Epoch: 57 [0/1000 (0%)]\tLoss: 95.481110\n",
            "====> Epoch: 57 Average loss: 87.3129\n",
            "Train Epoch: 58 [0/1000 (0%)]\tLoss: 99.422470\n",
            "====> Epoch: 58 Average loss: 86.3293\n",
            "Train Epoch: 59 [0/1000 (0%)]\tLoss: 99.540207\n",
            "====> Epoch: 59 Average loss: 85.6997\n",
            "Train Epoch: 60 [0/1000 (0%)]\tLoss: 96.554428\n",
            "====> Epoch: 60 Average loss: 85.3487\n",
            "Train Epoch: 61 [0/1000 (0%)]\tLoss: 94.130859\n",
            "====> Epoch: 61 Average loss: 85.1014\n",
            "Train Epoch: 62 [0/1000 (0%)]\tLoss: 93.517136\n",
            "====> Epoch: 62 Average loss: 84.2173\n",
            "Train Epoch: 63 [0/1000 (0%)]\tLoss: 92.411224\n",
            "====> Epoch: 63 Average loss: 83.9688\n",
            "Train Epoch: 64 [0/1000 (0%)]\tLoss: 97.733459\n",
            "====> Epoch: 64 Average loss: 83.2871\n",
            "Train Epoch: 65 [0/1000 (0%)]\tLoss: 91.755585\n",
            "====> Epoch: 65 Average loss: 82.8918\n",
            "Train Epoch: 66 [0/1000 (0%)]\tLoss: 93.279922\n",
            "====> Epoch: 66 Average loss: 82.2699\n",
            "Train Epoch: 67 [0/1000 (0%)]\tLoss: 91.249390\n",
            "====> Epoch: 67 Average loss: 82.1401\n",
            "Train Epoch: 68 [0/1000 (0%)]\tLoss: 89.100067\n",
            "====> Epoch: 68 Average loss: 80.8032\n",
            "Train Epoch: 69 [0/1000 (0%)]\tLoss: 88.431824\n",
            "====> Epoch: 69 Average loss: 80.9652\n",
            "Train Epoch: 70 [0/1000 (0%)]\tLoss: 91.489380\n",
            "====> Epoch: 70 Average loss: 80.3101\n",
            "Train Epoch: 71 [0/1000 (0%)]\tLoss: 88.418556\n",
            "====> Epoch: 71 Average loss: 79.5413\n",
            "Train Epoch: 72 [0/1000 (0%)]\tLoss: 89.607513\n",
            "====> Epoch: 72 Average loss: 79.7165\n",
            "Train Epoch: 73 [0/1000 (0%)]\tLoss: 87.701233\n",
            "====> Epoch: 73 Average loss: 78.8796\n",
            "Train Epoch: 74 [0/1000 (0%)]\tLoss: 91.257545\n",
            "====> Epoch: 74 Average loss: 79.0280\n",
            "Train Epoch: 75 [0/1000 (0%)]\tLoss: 83.891586\n",
            "====> Epoch: 75 Average loss: 78.2971\n",
            "Train Epoch: 76 [0/1000 (0%)]\tLoss: 88.740341\n",
            "====> Epoch: 76 Average loss: 78.4401\n",
            "Train Epoch: 77 [0/1000 (0%)]\tLoss: 84.618912\n",
            "====> Epoch: 77 Average loss: 77.1515\n",
            "Train Epoch: 78 [0/1000 (0%)]\tLoss: 90.496178\n",
            "====> Epoch: 78 Average loss: 76.8961\n",
            "Train Epoch: 79 [0/1000 (0%)]\tLoss: 83.553513\n",
            "====> Epoch: 79 Average loss: 77.2941\n",
            "Train Epoch: 80 [0/1000 (0%)]\tLoss: 84.835144\n",
            "====> Epoch: 80 Average loss: 76.3916\n",
            "Train Epoch: 81 [0/1000 (0%)]\tLoss: 85.080666\n",
            "====> Epoch: 81 Average loss: 76.4078\n",
            "Train Epoch: 82 [0/1000 (0%)]\tLoss: 86.700745\n",
            "====> Epoch: 82 Average loss: 75.7561\n",
            "Train Epoch: 83 [0/1000 (0%)]\tLoss: 84.862518\n",
            "====> Epoch: 83 Average loss: 75.3662\n",
            "Train Epoch: 84 [0/1000 (0%)]\tLoss: 83.202965\n",
            "====> Epoch: 84 Average loss: 75.0878\n",
            "Train Epoch: 85 [0/1000 (0%)]\tLoss: 82.542519\n",
            "====> Epoch: 85 Average loss: 74.8498\n",
            "Train Epoch: 86 [0/1000 (0%)]\tLoss: 83.303024\n",
            "====> Epoch: 86 Average loss: 74.4007\n",
            "Train Epoch: 87 [0/1000 (0%)]\tLoss: 79.138916\n",
            "====> Epoch: 87 Average loss: 73.8482\n",
            "Train Epoch: 88 [0/1000 (0%)]\tLoss: 83.621384\n",
            "====> Epoch: 88 Average loss: 73.2972\n",
            "Train Epoch: 89 [0/1000 (0%)]\tLoss: 80.941673\n",
            "====> Epoch: 89 Average loss: 73.8528\n",
            "Train Epoch: 90 [0/1000 (0%)]\tLoss: 75.612000\n",
            "====> Epoch: 90 Average loss: 72.9024\n",
            "Train Epoch: 91 [0/1000 (0%)]\tLoss: 82.929146\n",
            "====> Epoch: 91 Average loss: 72.8123\n",
            "Train Epoch: 92 [0/1000 (0%)]\tLoss: 79.291931\n",
            "====> Epoch: 92 Average loss: 72.4611\n",
            "Train Epoch: 93 [0/1000 (0%)]\tLoss: 79.447220\n",
            "====> Epoch: 93 Average loss: 72.4876\n",
            "Train Epoch: 94 [0/1000 (0%)]\tLoss: 81.625031\n",
            "====> Epoch: 94 Average loss: 71.6060\n",
            "Train Epoch: 95 [0/1000 (0%)]\tLoss: 78.846970\n",
            "====> Epoch: 95 Average loss: 71.2666\n",
            "Train Epoch: 96 [0/1000 (0%)]\tLoss: 80.661972\n",
            "====> Epoch: 96 Average loss: 71.8243\n",
            "Train Epoch: 97 [0/1000 (0%)]\tLoss: 82.837524\n",
            "====> Epoch: 97 Average loss: 70.6954\n",
            "Train Epoch: 98 [0/1000 (0%)]\tLoss: 75.948959\n",
            "====> Epoch: 98 Average loss: 70.8781\n",
            "Train Epoch: 99 [0/1000 (0%)]\tLoss: 78.710770\n",
            "====> Epoch: 99 Average loss: 70.0152\n",
            "Train Epoch: 100 [0/1000 (0%)]\tLoss: 75.066330\n",
            "====> Epoch: 100 Average loss: 69.4565\n",
            "Train Epoch: 101 [0/1000 (0%)]\tLoss: 74.787498\n",
            "====> Epoch: 101 Average loss: 69.7318\n",
            "Train Epoch: 102 [0/1000 (0%)]\tLoss: 81.760773\n",
            "====> Epoch: 102 Average loss: 69.2254\n",
            "Train Epoch: 103 [0/1000 (0%)]\tLoss: 78.875870\n",
            "====> Epoch: 103 Average loss: 69.1988\n",
            "Train Epoch: 104 [0/1000 (0%)]\tLoss: 74.213600\n",
            "====> Epoch: 104 Average loss: 68.7113\n",
            "Train Epoch: 105 [0/1000 (0%)]\tLoss: 72.618317\n",
            "====> Epoch: 105 Average loss: 68.0784\n",
            "Train Epoch: 106 [0/1000 (0%)]\tLoss: 73.997482\n",
            "====> Epoch: 106 Average loss: 67.8274\n",
            "Train Epoch: 107 [0/1000 (0%)]\tLoss: 75.288452\n",
            "====> Epoch: 107 Average loss: 67.5986\n",
            "Train Epoch: 108 [0/1000 (0%)]\tLoss: 75.719879\n",
            "====> Epoch: 108 Average loss: 67.8955\n",
            "Train Epoch: 109 [0/1000 (0%)]\tLoss: 76.946663\n",
            "====> Epoch: 109 Average loss: 67.1102\n",
            "Train Epoch: 110 [0/1000 (0%)]\tLoss: 73.831665\n",
            "====> Epoch: 110 Average loss: 67.1506\n",
            "Train Epoch: 111 [0/1000 (0%)]\tLoss: 74.523834\n",
            "====> Epoch: 111 Average loss: 67.1730\n",
            "Train Epoch: 112 [0/1000 (0%)]\tLoss: 73.344620\n",
            "====> Epoch: 112 Average loss: 66.9418\n",
            "Train Epoch: 113 [0/1000 (0%)]\tLoss: 71.929024\n",
            "====> Epoch: 113 Average loss: 66.9963\n",
            "Train Epoch: 114 [0/1000 (0%)]\tLoss: 69.069366\n",
            "====> Epoch: 114 Average loss: 66.1824\n",
            "Train Epoch: 115 [0/1000 (0%)]\tLoss: 73.312515\n",
            "====> Epoch: 115 Average loss: 65.9160\n",
            "Train Epoch: 116 [0/1000 (0%)]\tLoss: 72.546822\n",
            "====> Epoch: 116 Average loss: 66.0874\n",
            "Train Epoch: 117 [0/1000 (0%)]\tLoss: 71.790688\n",
            "====> Epoch: 117 Average loss: 65.5070\n",
            "Train Epoch: 118 [0/1000 (0%)]\tLoss: 76.669464\n",
            "====> Epoch: 118 Average loss: 65.4410\n",
            "Train Epoch: 119 [0/1000 (0%)]\tLoss: 71.437744\n",
            "====> Epoch: 119 Average loss: 65.0177\n",
            "Train Epoch: 120 [0/1000 (0%)]\tLoss: 72.093964\n",
            "====> Epoch: 120 Average loss: 64.9114\n",
            "Train Epoch: 121 [0/1000 (0%)]\tLoss: 72.809425\n",
            "====> Epoch: 121 Average loss: 64.6220\n",
            "Train Epoch: 122 [0/1000 (0%)]\tLoss: 72.720764\n",
            "====> Epoch: 122 Average loss: 64.5074\n",
            "Train Epoch: 123 [0/1000 (0%)]\tLoss: 72.365242\n",
            "====> Epoch: 123 Average loss: 64.2627\n",
            "Train Epoch: 124 [0/1000 (0%)]\tLoss: 70.851425\n",
            "====> Epoch: 124 Average loss: 63.9761\n",
            "Train Epoch: 125 [0/1000 (0%)]\tLoss: 72.626633\n",
            "====> Epoch: 125 Average loss: 63.5937\n",
            "Train Epoch: 126 [0/1000 (0%)]\tLoss: 71.858299\n",
            "====> Epoch: 126 Average loss: 63.4771\n",
            "Train Epoch: 127 [0/1000 (0%)]\tLoss: 70.546196\n",
            "====> Epoch: 127 Average loss: 63.2986\n",
            "Train Epoch: 128 [0/1000 (0%)]\tLoss: 69.557549\n",
            "====> Epoch: 128 Average loss: 62.8784\n",
            "Train Epoch: 129 [0/1000 (0%)]\tLoss: 67.410217\n",
            "====> Epoch: 129 Average loss: 62.5660\n",
            "Train Epoch: 130 [0/1000 (0%)]\tLoss: 68.937737\n",
            "====> Epoch: 130 Average loss: 62.6699\n",
            "Train Epoch: 131 [0/1000 (0%)]\tLoss: 68.844177\n",
            "====> Epoch: 131 Average loss: 62.3684\n",
            "Train Epoch: 132 [0/1000 (0%)]\tLoss: 69.242798\n",
            "====> Epoch: 132 Average loss: 62.1151\n",
            "Train Epoch: 133 [0/1000 (0%)]\tLoss: 70.287140\n",
            "====> Epoch: 133 Average loss: 62.2033\n",
            "Train Epoch: 134 [0/1000 (0%)]\tLoss: 68.171135\n",
            "====> Epoch: 134 Average loss: 62.2322\n",
            "Train Epoch: 135 [0/1000 (0%)]\tLoss: 70.749336\n",
            "====> Epoch: 135 Average loss: 62.0001\n",
            "Train Epoch: 136 [0/1000 (0%)]\tLoss: 66.545303\n",
            "====> Epoch: 136 Average loss: 61.9599\n",
            "Train Epoch: 137 [0/1000 (0%)]\tLoss: 71.452690\n",
            "====> Epoch: 137 Average loss: 61.0996\n",
            "Train Epoch: 138 [0/1000 (0%)]\tLoss: 66.746109\n",
            "====> Epoch: 138 Average loss: 61.2918\n",
            "Train Epoch: 139 [0/1000 (0%)]\tLoss: 69.022835\n",
            "====> Epoch: 139 Average loss: 61.0138\n",
            "Train Epoch: 140 [0/1000 (0%)]\tLoss: 66.786896\n",
            "====> Epoch: 140 Average loss: 60.5848\n",
            "Train Epoch: 141 [0/1000 (0%)]\tLoss: 67.079102\n",
            "====> Epoch: 141 Average loss: 60.7521\n",
            "Train Epoch: 142 [0/1000 (0%)]\tLoss: 70.825455\n",
            "====> Epoch: 142 Average loss: 60.5366\n",
            "Train Epoch: 143 [0/1000 (0%)]\tLoss: 64.034180\n",
            "====> Epoch: 143 Average loss: 60.3391\n",
            "Train Epoch: 144 [0/1000 (0%)]\tLoss: 67.638885\n",
            "====> Epoch: 144 Average loss: 60.2645\n",
            "Train Epoch: 145 [0/1000 (0%)]\tLoss: 66.303436\n",
            "====> Epoch: 145 Average loss: 60.2806\n",
            "Train Epoch: 146 [0/1000 (0%)]\tLoss: 65.793961\n",
            "====> Epoch: 146 Average loss: 59.7667\n",
            "Train Epoch: 147 [0/1000 (0%)]\tLoss: 65.602463\n",
            "====> Epoch: 147 Average loss: 59.8997\n",
            "Train Epoch: 148 [0/1000 (0%)]\tLoss: 67.247078\n",
            "====> Epoch: 148 Average loss: 59.1627\n",
            "Train Epoch: 149 [0/1000 (0%)]\tLoss: 65.728653\n",
            "====> Epoch: 149 Average loss: 59.3643\n"
          ]
        }
      ],
      "source": [
        "for epoch in range(0, n_epochs):\n",
        "  train_ae(ae_model,mnist_train_loader,epoch)"
      ]
    },
    {
      "cell_type": "code",
      "execution_count": 66,
      "metadata": {
        "id": "T8jXjdRyzMy2"
      },
      "outputs": [],
      "source": [
        "def display_images(imgs):\n",
        "  \n",
        "  r = 1\n",
        "  c = imgs.shape[0]\n",
        "  fig, axs = plt.subplots(r, c)\n",
        "  for j in range(c):\n",
        "    #black and white images\n",
        "    axs[j].imshow(pytorch_to_numpy(imgs[j, 0,:,:]), cmap='gray')\n",
        "    axs[j].axis('off')\n",
        "  plt.show()\n",
        "\n",
        "def display_ae_images(ae_model, test_imgs):\n",
        "  n_images = 5\n",
        "  idx = np.random.randint(0, test_imgs.shape[0], n_images)\n",
        "  test_imgs = test_imgs[idx,:,:,:]\n",
        "  print(test_imgs.shape)\n",
        "\n",
        "  #get output images\n",
        "  output_imgs = pytorch_to_numpy(ae_model.forward( test_imgs ))\n",
        "  print(output_imgs.shape)\n",
        "  \n",
        "  r = 2\n",
        "  c = n_images\n",
        "  fig, axs = plt.subplots(r, c)\n",
        "  for j in range(c):\n",
        "    #black and white images\n",
        "    axs[0,j].imshow(test_imgs[j, 0,:,:], cmap='gray')\n",
        "    axs[0,j].axis('off')\n",
        "    axs[1,j].imshow(output_imgs[j, 0,:,:], cmap='gray')\n",
        "    axs[1,j].axis('off')\n",
        "  plt.show()"
      ]
    },
    {
      "cell_type": "code",
      "execution_count": 67,
      "metadata": {
        "id": "9pbXch29d68D"
      },
      "outputs": [
        {
          "name": "stdout",
          "output_type": "stream",
          "text": [
            "torch.Size([5, 1, 28, 28])\n",
            "(5, 1, 28, 28)\n"
          ]
        },
        {
          "data": {
            "image/png": "[encoded data removed]",
            "text/plain": [
              "<Figure size 640x480 with 10 Axes>"
            ]
          },
          "metadata": {},
          "output_type": "display_data"
        }
      ],
      "source": [
        "test_imgs = next(iter(mnist_train_loader))[0]\n",
        "display_ae_images(ae_model, test_imgs)"
      ]
    },
    {
      "attachments": {},
      "cell_type": "markdown",
      "metadata": {
        "id": "assPaJqB5sa-"
      },
      "source": [
        "__Question__ Are you satisfied with the results, do they look good ?"
      ]
    },
    {
      "attachments": {},
      "cell_type": "markdown",
      "metadata": {
        "id": "Q7uoWa4O5x8R"
      },
      "source": [
        "__Answer__ Les images sont plutôt satisfaisantes : notre encoder naif est déjà relativement efficace, du moins en terme de décompression et recompression, puisque les images en sortie restent lisibles, même si elles ont perdu en qualité."
      ]
    },
    {
      "attachments": {},
      "cell_type": "markdown",
      "metadata": {
        "id": "zO9ATQEiyr3b"
      },
      "source": [
        "## 2/ Two simple generative models\n",
        "\n",
        "In this section, we consider two naïve approaches to creating generative models. The general idea is the following:\n",
        "\n",
        "- train an autoencoder\n",
        "- estimate different statistics (average, variance) of the data in the latent space\n",
        "- using these statistics, define a model based on a Gaussian distribution\n",
        "- generate data with this distribution\n",
        "\n",
        "We will consider these two situations :\n",
        "\n",
        "- a multivariate Gaussian distribution with __diagonal covariance matrix__ (each latent component is an independent random variable). This requires the average and variance in each latent component\n",
        "- a multivariate Gaussian distribution with __non-diagonal covariance matrix__. This requires the average and covariance matrix of the latent components\n",
        "\n",
        "Obviously, since this is done _a posteriori_ after training the autoencoder, there is nothing which guarantees that the latent codes do indeed follow a Gaussian distribution. Our goal will be to verify that Variational Autoencoders indeed produce better results than such naïve approaches."
      ]
    },
    {
      "attachments": {},
      "cell_type": "markdown",
      "metadata": {
        "id": "x2M1-BRmf56d"
      },
      "source": [
        "## 2.0 Defining and generating random Gaussian latent codes\n",
        "\n",
        "Let $z$ be a latent code and $d$ the dimension of the latent space (called ``z_dim`` in the code). We suppose that the $z$'s follow a multivariate Gaussian distribution, written as:\n",
        "\n",
        "\\begin{equation}\n",
        "z \\sim \\mathcal{N}\\left(\n",
        "\\mu,\n",
        "\\bf{C}\n",
        "\\right),\n",
        "\\end{equation}\n",
        "where $\\mu$ and $\\bf{C}$ are the average vector and covariance matrix of the Gaussian distribution. To define such a generative model, we must therefore determine $\\mu$ and $\\bf{C}$. Once this is done, we can generate a random Gaussian latent code in the following manner:\n",
        "\n",
        "\\begin{equation}\n",
        "z = \\mu + {\\bf{L}} \\varepsilon,\n",
        "\\end{equation}\n",
        "where $\\varepsilon$ is a random vector drawn from a multivariate normal distribution ($\\mu=0$ and ${\\bf{C}} = \\text{Id}$), and $\\bf{L}$ is the Cholesky decomposition of the positive semi-definite covariance matrix. In other words:\n",
        "\n",
        "\\begin{equation}\n",
        "{\\bf{C}} = {\\bf{L}}{\\bf{L}^T}.\n",
        "\\end{equation}\n",
        "\n",
        "This gives a simple method of producing a multivariate Gaussian random variable."
      ]
    },
    {
      "attachments": {},
      "cell_type": "markdown",
      "metadata": {
        "id": "NWpucm972i7j"
      },
      "source": [
        "## 2.1/ A Gaussian model with diagonal covariance\n",
        "\n",
        "The first naïve model is  defined in this first case as:\n",
        "\n",
        "- $\\bf{\\mu}=\\left[\\mu_0, \\mu_1, \\cdots, \\mu_{d-1}\\right]^T$\n",
        "- $\n",
        "  \\bf{C} = \\begin{pmatrix}\n",
        "\\sigma_0^2 & 0 & \\cdots & 0 \\\\\n",
        "0 & \\sigma_1^2 & \\cdots & 0 \\\\\n",
        "\\vdots & \\ddots & \\ddots & \\vdots \\\\\n",
        "0 & 0 & \\cdots & \\sigma_{d-1}^2\n",
        "\\end{pmatrix}$\n",
        "\n",
        "In this situation, therefore, the matrix $\\bf{L}$ can be calculated quite simply, as:\n",
        "- $\n",
        "  \\bf{L} = \\begin{pmatrix}\n",
        "\\sigma_0 & 0 & \\cdots & 0 \\\\\n",
        "0 & \\sigma_1 & \\cdots & 0 \\\\\n",
        "\\vdots & \\ddots & \\ddots & \\vdots \\\\\n",
        "0 & 0 & \\cdots & \\sigma_{d-1}\n",
        "\\end{pmatrix}$\n",
        "\n",
        "In the next cell, calculate the empirical average and variances over a certain number of batches:"
      ]
    },
    {
      "cell_type": "code",
      "execution_count": 68,
      "metadata": {
        "id": "sUXHCtvW2iQ0"
      },
      "outputs": [
        {
          "name": "stdout",
          "output_type": "stream",
          "text": [
            "Average of latent codes: tensor([-1.6824, -3.5618, -7.6777, -1.3947,  2.5362,  8.6923,  8.7764, -6.0093,\n",
            "         2.3731,  8.7888], grad_fn=<MeanBackward1>)\n",
            "Standard deviation of latent codes: tensor([6.9215, 8.6442, 6.3306, 7.8571, 7.1052, 8.0423, 9.0842, 7.0970, 5.2588,\n",
            "        7.1443], grad_fn=<MeanBackward1>)\n"
          ]
        }
      ],
      "source": [
        "n_batches = np.floor( len(mnist_train_loader.dataset.indices)/batch_size ).astype(int)\n",
        "\n",
        "z_average = torch.zeros(n_batches,ae_model.z_dim)\n",
        "z_sigma = torch.zeros(n_batches,ae_model.z_dim)\n",
        "\n",
        "for batch_idx, (data, _) in enumerate(mnist_train_loader):\n",
        "  z = ae_model.encoder(data.view(-1, n_pixels))\n",
        "  z_average[batch_idx,:] = torch.mean(z,0)\n",
        "  z_sigma[batch_idx,:] = torch.std(z,0)\n",
        "\n",
        "\n",
        "z_average = torch.mean(z_average,0)\n",
        "z_sigma = torch.mean(z_sigma,0)\n",
        "\n",
        "print(\"Average of latent codes:\",z_average)\n",
        "print(\"Standard deviation of latent codes:\",z_sigma)"
      ]
    },
    {
      "attachments": {},
      "cell_type": "markdown",
      "metadata": {
        "id": "Lrpc62ML9K4l"
      },
      "source": [
        "Now, in the next cell generate data with this simple generative model using the approach described above. Display these images with the ``display_images`` function. \n",
        "\n",
        "__NB__ You do not actually have to define the matrix $\\bf{L}$ in this case, an element-wise multiplication of two (properly chosen) vectors will suffice. To generate multivariate normal random variables you can use the following Pytorch function:\n",
        "\n",
        "- ```torch.randn```\n"
      ]
    },
    {
      "cell_type": "code",
      "execution_count": 69,
      "metadata": {
        "id": "1_Tekii-9QEo"
      },
      "outputs": [
        {
          "data": {
            "image/png": "[encoded data removed]",
            "text/plain": [
              "<Figure size 640x480 with 5 Axes>"
            ]
          },
          "metadata": {},
          "output_type": "display_data"
        }
      ],
      "source": [
        "def generate_images_diagonal_gaussian(ae_model,z_average,z_sigma,n_images = 5):\n",
        "\n",
        "  epsilon = torch.randn(n_images,ae_model.z_dim)\n",
        "  z_generated = z_average + z_sigma*epsilon\n",
        "  imgs_generated = ae_model.decoder(z_generated).view(-1, n_channels, n_rows, n_cols)\n",
        "  return(imgs_generated)\n",
        "\n",
        "imgs_generated = generate_images_diagonal_gaussian(ae_model,z_average,z_sigma,n_images=5)\n",
        "display_images(imgs_generated)"
      ]
    },
    {
      "attachments": {},
      "cell_type": "markdown",
      "metadata": {
        "id": "xiNaEgLIloeA"
      },
      "source": [
        "As you should be able to see, these results are not that good. Let's try a slightly more sophisticated model."
      ]
    },
    {
      "attachments": {},
      "cell_type": "markdown",
      "metadata": {
        "id": "WjVPfkRKYMSh"
      },
      "source": [
        "## 2.1 Non-diagonal Gaussian model\n",
        "\n",
        "The second model uses a non-diagonal covariance matrix $\\bf{C}$ in the multivariate Gaussian distribution. In the next cell, calculate the average and covariance matrix over several batches of latent codes.\n",
        "\n",
        "__NB__ You can use the ```torch.cov``` function. Make sure to put the data in the right format for this (see documentation : https://pytorch.org/docs/stable/generated/torch.cov.html)."
      ]
    },
    {
      "cell_type": "code",
      "execution_count": 70,
      "metadata": {
        "id": "ArXgre39CD2H"
      },
      "outputs": [
        {
          "name": "stdout",
          "output_type": "stream",
          "text": [
            "Average of latent codes: tensor([-1.6700, -3.4792, -7.7991, -1.3978,  2.3950,  8.5952,  8.8763, -5.9572,\n",
            "         2.4287,  8.8392], grad_fn=<MeanBackward1>)\n",
            "Covariance matrix of latent codes: tensor([[ 47.7961,  16.5260,  10.8032,  -0.1007,  -1.4783,  -0.4358,  16.9209,\n",
            "          -8.1918, -10.6808,   0.6231],\n",
            "        [ 16.5260,  74.2655, -19.9071,   0.3195, -22.5930, -13.1147, -32.8103,\n",
            "           5.5100, -16.0496, -19.4852],\n",
            "        [ 10.8032, -19.9071,  40.6234,  -0.8170,  -7.7571,   4.6079,  17.6573,\n",
            "          -2.8652,  -3.9512,   1.7990],\n",
            "        [ -0.1007,   0.3195,  -0.8170,  60.6559, -26.3071, -23.8155, -18.9394,\n",
            "           5.3369,   3.9550,  -6.4159],\n",
            "        [ -1.4783, -22.5930,  -7.7571, -26.3071,  53.2368,  11.9865,   7.4697,\n",
            "          -0.8494,   9.4582,  24.9495],\n",
            "        [ -0.4358, -13.1147,   4.6079, -23.8155,  11.9865,  64.1623,   1.3636,\n",
            "         -16.6938,  12.2316, -13.2609],\n",
            "        [ 16.9209, -32.8103,  17.6573, -18.9394,   7.4697,   1.3636,  80.7232,\n",
            "           6.3903,  -6.9878,  16.5361],\n",
            "        [ -8.1918,   5.5100,  -2.8652,   5.3369,  -0.8494, -16.6938,   6.3903,\n",
            "          50.0701,   3.4024, -14.9698],\n",
            "        [-10.6808, -16.0496,  -3.9512,   3.9550,   9.4582,  12.2316,  -6.9878,\n",
            "           3.4024,  28.3290,  -1.8867],\n",
            "        [  0.6231, -19.4852,   1.7990,  -6.4159,  24.9495, -13.2609,  16.5361,\n",
            "         -14.9698,  -1.8867,  51.2690]], grad_fn=<MeanBackward1>)\n"
          ]
        }
      ],
      "source": [
        "n_batches = np.floor( len(mnist_train_loader.dataset.indices)/batch_size ).astype(int)\n",
        "\n",
        "z_average = torch.zeros(n_batches,ae_model.z_dim)\n",
        "z_covariance = torch.zeros(n_batches,ae_model.z_dim,ae_model.z_dim)\n",
        "\n",
        "for batch_idx, (data, _) in enumerate(mnist_train_loader):\n",
        "  z = ae_model.encoder(data.view(-1, n_pixels))\n",
        "  z_average[batch_idx,:] = torch.mean(z,0)\n",
        "  z_covariance[batch_idx,:,:] = torch.cov(z.T)\n",
        "\n",
        "z_average = torch.mean(z_average,0) \n",
        "z_covariance = torch.mean(z_covariance,0) \n",
        "\n",
        "print(\"Average of latent codes:\",z_average)\n",
        "print(\"Covariance matrix of latent codes:\",z_covariance)"
      ]
    },
    {
      "attachments": {},
      "cell_type": "markdown",
      "metadata": {
        "id": "JhXU8cnTZ0E8"
      },
      "source": [
        "Now, generate some samples with this distribution. In this case, you will actually have to calculate the Cholesky decomposition and find $\\bf{L}$. For this, you can use \n",
        "\n",
        "- ```torch.linalg.cholesky```\n",
        "\n",
        "In this model, you will need to carry out matrix multiplication over a batch of latent codes, which is a bit more complicated than the previous naïve model (which used element-wise vector multiplication). So you have two options:\n",
        "\n",
        "- copy the matrix $\\bf{L}$ several times and carry out batch matrix multiplication\n",
        "- simply loop and carry out normal matrix multiplication to produce each image (this has the disadvantage of not taking advantage of any parallelisation, but it should not matter too much).\n",
        "\n",
        "In the first case, you can use the following functions:\n",
        "\n",
        "- ```torch.bmm```\n",
        "- ```torch.tile```\n",
        "\n",
        "Fill in the function to generate images using this model now:"
      ]
    },
    {
      "cell_type": "code",
      "execution_count": 71,
      "metadata": {
        "id": "zXGlJTZ7Z4ed"
      },
      "outputs": [
        {
          "data": {
            "image/png": "[encoded data removed]",
            "text/plain": [
              "<Figure size 640x480 with 5 Axes>"
            ]
          },
          "metadata": {},
          "output_type": "display_data"
        }
      ],
      "source": [
        "def generate_images_non_diagonal_gaussian(ae_model,z_average,z_covariance,n_images = 5):\n",
        "\n",
        "  #calcualte Cholesky decomposition of covariance matrix : C = L L^T\n",
        "  # Make sure that the first dimension is the batch dimension (with batch size n_images)\n",
        "  # You can use the torch.unsqueeze function for this\n",
        "  L = torch.linalg.cholesky(z_covariance)\n",
        "\n",
        "  epsilon = torch.randn(n_images,ae_model.z_dim) \n",
        "  z_generated = z_average + torch.matmul(L,epsilon.T).T \n",
        "  imgs_generated = ae_model.decoder(z_generated).view(-1, n_channels, n_rows, n_cols)\n",
        "  return(imgs_generated)\n",
        "\n",
        "\n",
        "imgs_generated = generate_images_non_diagonal_gaussian(ae_model,z_average,z_covariance,n_images = 5)\n",
        "display_images(imgs_generated)"
      ]
    },
    {
      "attachments": {},
      "cell_type": "markdown",
      "metadata": {
        "id": "qLtsdri6zKEm"
      },
      "source": [
        "You should see some improvement, but we can do better than this. Thus, we turn to the variational autoencoder."
      ]
    },
    {
      "attachments": {},
      "cell_type": "markdown",
      "metadata": {
        "id": "8UqeNhuSdnDt"
      },
      "source": [
        "# 3/ Variational autoencoder\n",
        "\n",
        "Now, we are going to create an variational autoencoder to carry out __image generation__. Let's first recall the idea of a variational autoencoder\n",
        "\n",
        "## Main idea\n",
        "\n",
        "The main idea is to create an autoencoder whose latent codes follow a certain distribution (a Gaussian distribution in practice). This is done with two tools : \n",
        "\n",
        "- A specific architecture, where the encoder produces the average and variance of the latent codes\n",
        "- A specially designed loss function\n",
        "\n",
        "Once the VAE is trained, it is possible to sample in the latent space by producing random normal variables and simply decoding.\n",
        "\n",
        "## Architecture\n",
        "\n",
        "The architecture of the VAE model is as follows:\n",
        "\n",
        "The encoder consists of:\n",
        "\n",
        "Encoder :\n",
        "- Flatten input\n",
        "- Dense layer $+$ ReLU\n",
        "- Dense layer $+$ ReLU\n",
        "- Dense layer (no non-linarity) to produce the average, Dense layer (no non-linarity) to produce the variance (these last two layers are in parallel)\n",
        "\n",
        "Decoder :\n",
        "- Dense layer $+$ ReLU\n",
        "- Dense layer $+$ ReLU\n",
        "- Dense layer $+$ Sigmoid Activation\n",
        "- Reshape, to size $28\\times 28\\times 1$\n",
        "\n",
        "\n",
        "## Variational Autoencoder loss\n",
        "\n",
        "Recall that for the VAE, the loss function is in fact a function to __maximise__. In fact, for implementation, you will see that it is easier to __minimise__ $-\\mathcal{L}$.\n",
        "\n",
        "In the case of an image which is represented by a set of __Bernoulli__ variables (which is relevant for mnist), the original loss function (to maximise) is written :\n",
        "\n",
        "\n",
        "\\begin{align}\n",
        "\\mathcal{L} &= \\log\\left(p_\\theta(x|z)\\right) - KL\\left( q_\\phi(z|x) \\; || \\; p_\\theta(z)\\right) \\\\\n",
        "    &= \\left(\\sum_{i} x_i \\log y_i + (1-x_i) \\log (1-y_i)\\right) - \\left(\\frac{1}{2} \\sum_j \\left( \\sigma_j^2 + \\mu_j^2 - \\log \\sigma_j^2 -1 \\right)\\right)\n",
        "\\end{align}\n",
        "\n",
        "\n",
        "where $i$ is summed over the image pixels, and $j$ is summed over the elements of the latent space. $\\sigma_j^2$ is the $j$th element of the latent space variance, and $\\mu_j$ is the $j$th element of the latent space mean.\n",
        "\n",
        "The left part of the loss (reconstruction error) can be implemented simply as the binary cross-entropy between the input x and the output y. Since we are __maximising__ $-$[binary cross-entropy] (look at the formula), this is equivalent to minimising the binary cross-entropy.\n",
        "\n",
        "For the right part of the equation (KL divergence), you need to implement it manually. \n",
        "\n",
        "The final loss is the average, over the batch size, of the sum of the reconstruction error (left part) and the KL divergence (right part). Be careful, in the formula, the sums over $i$ and $j$ are over the number of pixels and the number of latent elements, respectively. To achieve a sum rather than an average, you can use ```torch.nn.BCELoss(reduction='sum')()```, and the ```torch.sum()``` functions.\n",
        "\n",
        "As in the case of the normal autoencoder, you will need to flatten and then reshape the tensors at the beginning/end of the network."
      ]
    },
    {
      "cell_type": "code",
      "execution_count": 72,
      "metadata": {
        "id": "6siMHQLheM4T"
      },
      "outputs": [],
      "source": [
        "class VAE(torch.nn.Module ):\n",
        "  def __init__(self, x_dim, h_dim1, h_dim2, z_dim,n_rows,n_cols,n_channels):\n",
        "    super(VAE, self).__init__()\n",
        "\n",
        "    self.n_rows = n_rows\n",
        "    self.n_cols = n_cols\n",
        "    self.n_channels = n_channels\n",
        "    self.n_pixels = (self.n_rows)*(self.n_cols)\n",
        "    self.z_dim = z_dim\n",
        "\n",
        "    # encoder part\n",
        "    self.fc1 = torch.nn.Linear(x_dim, h_dim1)\n",
        "    self.fc2 = torch.nn.Linear(h_dim1, h_dim2)\n",
        "    self.fc31 = torch.nn.Linear(h_dim2, z_dim)\n",
        "    self.fc32 = torch.nn.Linear(h_dim2, z_dim)\n",
        "    # decoder part\n",
        "    self.fc4 = torch.nn.Linear(z_dim, h_dim2)\n",
        "    self.fc5 = torch.nn.Linear(h_dim2, h_dim1)\n",
        "    self.fc6 = torch.nn.Linear(h_dim1, x_dim)\n",
        "\n",
        "  def encoder(self, x):\n",
        "    h = F.relu(self.fc1(x))\n",
        "    h = F.relu(self.fc2(h))\n",
        "    return self.fc31(h), self.fc32(h) # mu, log_var\n",
        "  def decoder(self, z):\n",
        "    h = F.relu(self.fc4(z))\n",
        "    h = F.relu(self.fc5(h))\n",
        "    return (self.fc6(h))\n",
        "\n",
        "  def sampling(self, mu, log_var):\n",
        "    # this function samples a Gaussian distribution, with average (mu) and standard deviation specified (using log_var)\n",
        "    std = torch.exp(0.5*log_var)\n",
        "    eps = torch.randn_like(std)\n",
        "    return eps.mul(std).add_(mu) # return z sample\n",
        "\n",
        "  def forward(self, x):\n",
        "    z_mu, z_log_var = self.encoder(x.view(-1, self.n_pixels))\n",
        "    z = self.sampling(z_mu, z_log_var)\n",
        "    return F.sigmoid(self.decoder(z)).view(-1, self.n_channels, self.n_rows, self.n_cols),z_mu, z_log_var\n",
        "\n",
        "  def loss_function(self,x, y, mu, log_var):\n",
        "    reconstruction_error = torch.nn.BCELoss(reduction='sum')(y, x) # binary cross entropy loss\n",
        "   \n",
        "    KLD = 0.5 * torch.sum( torch.exp(log_var) + mu**2 - 1 - log_var )  # KL divergence\n",
        "\n",
        "\n",
        "    return reconstruction_error + KLD"
      ]
    },
    {
      "attachments": {},
      "cell_type": "markdown",
      "metadata": {
        "id": "hk_9fDIphlsi"
      },
      "source": [
        "Now, create the model (similarly as above)"
      ]
    },
    {
      "cell_type": "code",
      "execution_count": 73,
      "metadata": {
        "id": "pVlpC2R3htyU"
      },
      "outputs": [],
      "source": [
        "# create model\n",
        "vae_dim_1 = ae_dim_1\n",
        "vae_dim_2 = ae_dim_2\n",
        "vae_model = VAE(x_dim=n_pixels, h_dim1= vae_dim_1, h_dim2=vae_dim_2, z_dim=z_dim,n_rows=n_rows,n_cols=n_cols,n_channels=n_channels)\n",
        "vae_optimizer = optim.Adam(vae_model.parameters())"
      ]
    },
    {
      "attachments": {},
      "cell_type": "markdown",
      "metadata": {
        "id": "NYKLF_oMh5HO"
      },
      "source": [
        "Finally, train the model. First modify the training function to the case of the vae."
      ]
    },
    {
      "cell_type": "code",
      "execution_count": 74,
      "metadata": {
        "id": "z6DjKTWmmssb"
      },
      "outputs": [],
      "source": [
        "def train_vae(vae_model,data_train_loader,epoch):\n",
        "  train_loss = 0\n",
        "  for batch_idx, (data, _) in enumerate(data_train_loader):\n",
        "    vae_optimizer.zero_grad()\n",
        "\n",
        "    y, z_mu, z_log_var = vae_model.forward(data)\n",
        "    loss_vae = vae_model.loss_function(data, y, z_mu, z_log_var)\n",
        "    loss_vae.backward()\n",
        "    train_loss += loss_vae.item()\n",
        "    vae_optimizer.step() \n",
        "\t\t\n",
        "    if batch_idx % 100 == 0:\n",
        "      print('Train Epoch: {} [{}/{} ({:.0f}%)]\\tLoss: {:.6f}'.format(\n",
        "      epoch, batch_idx * len(data), len(data_train_loader.dataset),\n",
        "      100. * batch_idx / len(data_train_loader), loss_vae.item() / len(data)))\n",
        "  print('====> Epoch: {} Average loss: {:.4f}'.format(epoch, train_loss / len(data_train_loader.dataset)))\n"
      ]
    },
    {
      "cell_type": "code",
      "execution_count": 75,
      "metadata": {
        "id": "L9JUUs6Kh8HB"
      },
      "outputs": [
        {
          "name": "stdout",
          "output_type": "stream",
          "text": [
            "Train Epoch: 0 [0/1000 (0%)]\tLoss: 543.460938\n",
            "====> Epoch: 0 Average loss: 406.3792\n",
            "Train Epoch: 1 [0/1000 (0%)]\tLoss: 286.317963\n",
            "====> Epoch: 1 Average loss: 229.2970\n",
            "Train Epoch: 2 [0/1000 (0%)]\tLoss: 222.642868\n",
            "====> Epoch: 2 Average loss: 195.9985\n",
            "Train Epoch: 3 [0/1000 (0%)]\tLoss: 214.843628\n",
            "====> Epoch: 3 Average loss: 187.5251\n",
            "Train Epoch: 4 [0/1000 (0%)]\tLoss: 204.559280\n",
            "====> Epoch: 4 Average loss: 186.2969\n",
            "Train Epoch: 5 [0/1000 (0%)]\tLoss: 206.815704\n",
            "====> Epoch: 5 Average loss: 184.6780\n",
            "Train Epoch: 6 [0/1000 (0%)]\tLoss: 205.785156\n",
            "====> Epoch: 6 Average loss: 181.9416\n",
            "Train Epoch: 7 [0/1000 (0%)]\tLoss: 195.122437\n",
            "====> Epoch: 7 Average loss: 181.0780\n",
            "Train Epoch: 8 [0/1000 (0%)]\tLoss: 202.556778\n",
            "====> Epoch: 8 Average loss: 179.0586\n",
            "Train Epoch: 9 [0/1000 (0%)]\tLoss: 194.444412\n",
            "====> Epoch: 9 Average loss: 176.5111\n",
            "Train Epoch: 10 [0/1000 (0%)]\tLoss: 196.950577\n",
            "====> Epoch: 10 Average loss: 176.4743\n",
            "Train Epoch: 11 [0/1000 (0%)]\tLoss: 195.855698\n",
            "====> Epoch: 11 Average loss: 174.3762\n",
            "Train Epoch: 12 [0/1000 (0%)]\tLoss: 191.221588\n",
            "====> Epoch: 12 Average loss: 174.1341\n",
            "Train Epoch: 13 [0/1000 (0%)]\tLoss: 193.015930\n",
            "====> Epoch: 13 Average loss: 173.3557\n",
            "Train Epoch: 14 [0/1000 (0%)]\tLoss: 193.590088\n",
            "====> Epoch: 14 Average loss: 172.2370\n",
            "Train Epoch: 15 [0/1000 (0%)]\tLoss: 191.127121\n",
            "====> Epoch: 15 Average loss: 170.4609\n",
            "Train Epoch: 16 [0/1000 (0%)]\tLoss: 191.633972\n",
            "====> Epoch: 16 Average loss: 170.4794\n",
            "Train Epoch: 17 [0/1000 (0%)]\tLoss: 184.514389\n",
            "====> Epoch: 17 Average loss: 169.5145\n",
            "Train Epoch: 18 [0/1000 (0%)]\tLoss: 188.623322\n",
            "====> Epoch: 18 Average loss: 167.3744\n",
            "Train Epoch: 19 [0/1000 (0%)]\tLoss: 183.063538\n",
            "====> Epoch: 19 Average loss: 165.0292\n",
            "Train Epoch: 20 [0/1000 (0%)]\tLoss: 178.813385\n",
            "====> Epoch: 20 Average loss: 163.1393\n",
            "Train Epoch: 21 [0/1000 (0%)]\tLoss: 174.870193\n",
            "====> Epoch: 21 Average loss: 159.6697\n",
            "Train Epoch: 22 [0/1000 (0%)]\tLoss: 178.918976\n",
            "====> Epoch: 22 Average loss: 156.5707\n",
            "Train Epoch: 23 [0/1000 (0%)]\tLoss: 181.985367\n",
            "====> Epoch: 23 Average loss: 154.1179\n",
            "Train Epoch: 24 [0/1000 (0%)]\tLoss: 169.496964\n",
            "====> Epoch: 24 Average loss: 152.5249\n",
            "Train Epoch: 25 [0/1000 (0%)]\tLoss: 169.708649\n",
            "====> Epoch: 25 Average loss: 151.5731\n",
            "Train Epoch: 26 [0/1000 (0%)]\tLoss: 173.003433\n",
            "====> Epoch: 26 Average loss: 149.2831\n",
            "Train Epoch: 27 [0/1000 (0%)]\tLoss: 162.578384\n",
            "====> Epoch: 27 Average loss: 147.2582\n",
            "Train Epoch: 28 [0/1000 (0%)]\tLoss: 162.379150\n",
            "====> Epoch: 28 Average loss: 145.1991\n",
            "Train Epoch: 29 [0/1000 (0%)]\tLoss: 156.878357\n",
            "====> Epoch: 29 Average loss: 144.1230\n",
            "Train Epoch: 30 [0/1000 (0%)]\tLoss: 160.658295\n",
            "====> Epoch: 30 Average loss: 142.9016\n",
            "Train Epoch: 31 [0/1000 (0%)]\tLoss: 156.210495\n",
            "====> Epoch: 31 Average loss: 140.9308\n",
            "Train Epoch: 32 [0/1000 (0%)]\tLoss: 157.581863\n",
            "====> Epoch: 32 Average loss: 141.1662\n",
            "Train Epoch: 33 [0/1000 (0%)]\tLoss: 157.367004\n",
            "====> Epoch: 33 Average loss: 140.5118\n",
            "Train Epoch: 34 [0/1000 (0%)]\tLoss: 153.691986\n",
            "====> Epoch: 34 Average loss: 139.6423\n",
            "Train Epoch: 35 [0/1000 (0%)]\tLoss: 148.409286\n",
            "====> Epoch: 35 Average loss: 137.8640\n",
            "Train Epoch: 36 [0/1000 (0%)]\tLoss: 152.352997\n",
            "====> Epoch: 36 Average loss: 136.7977\n",
            "Train Epoch: 37 [0/1000 (0%)]\tLoss: 152.614182\n",
            "====> Epoch: 37 Average loss: 135.6855\n",
            "Train Epoch: 38 [0/1000 (0%)]\tLoss: 152.408249\n",
            "====> Epoch: 38 Average loss: 134.2715\n",
            "Train Epoch: 39 [0/1000 (0%)]\tLoss: 145.907211\n",
            "====> Epoch: 39 Average loss: 133.6232\n",
            "Train Epoch: 40 [0/1000 (0%)]\tLoss: 146.161087\n",
            "====> Epoch: 40 Average loss: 132.1648\n",
            "Train Epoch: 41 [0/1000 (0%)]\tLoss: 144.012848\n",
            "====> Epoch: 41 Average loss: 130.5335\n",
            "Train Epoch: 42 [0/1000 (0%)]\tLoss: 141.694336\n",
            "====> Epoch: 42 Average loss: 129.3267\n",
            "Train Epoch: 43 [0/1000 (0%)]\tLoss: 139.025116\n",
            "====> Epoch: 43 Average loss: 128.0658\n",
            "Train Epoch: 44 [0/1000 (0%)]\tLoss: 147.362900\n",
            "====> Epoch: 44 Average loss: 127.6634\n",
            "Train Epoch: 45 [0/1000 (0%)]\tLoss: 142.772644\n",
            "====> Epoch: 45 Average loss: 126.6573\n",
            "Train Epoch: 46 [0/1000 (0%)]\tLoss: 138.499573\n",
            "====> Epoch: 46 Average loss: 125.9829\n",
            "Train Epoch: 47 [0/1000 (0%)]\tLoss: 137.449600\n",
            "====> Epoch: 47 Average loss: 124.6924\n",
            "Train Epoch: 48 [0/1000 (0%)]\tLoss: 133.796341\n",
            "====> Epoch: 48 Average loss: 123.5568\n",
            "Train Epoch: 49 [0/1000 (0%)]\tLoss: 135.276047\n",
            "====> Epoch: 49 Average loss: 123.1526\n",
            "Train Epoch: 50 [0/1000 (0%)]\tLoss: 132.731064\n",
            "====> Epoch: 50 Average loss: 122.2161\n",
            "Train Epoch: 51 [0/1000 (0%)]\tLoss: 135.221741\n",
            "====> Epoch: 51 Average loss: 121.3094\n",
            "Train Epoch: 52 [0/1000 (0%)]\tLoss: 133.241409\n",
            "====> Epoch: 52 Average loss: 121.0528\n",
            "Train Epoch: 53 [0/1000 (0%)]\tLoss: 132.930405\n",
            "====> Epoch: 53 Average loss: 120.5890\n",
            "Train Epoch: 54 [0/1000 (0%)]\tLoss: 131.445358\n",
            "====> Epoch: 54 Average loss: 119.5968\n",
            "Train Epoch: 55 [0/1000 (0%)]\tLoss: 134.500549\n",
            "====> Epoch: 55 Average loss: 119.3907\n",
            "Train Epoch: 56 [0/1000 (0%)]\tLoss: 136.073212\n",
            "====> Epoch: 56 Average loss: 119.3099\n",
            "Train Epoch: 57 [0/1000 (0%)]\tLoss: 130.325333\n",
            "====> Epoch: 57 Average loss: 117.9507\n",
            "Train Epoch: 58 [0/1000 (0%)]\tLoss: 124.882988\n",
            "====> Epoch: 58 Average loss: 116.5249\n",
            "Train Epoch: 59 [0/1000 (0%)]\tLoss: 124.625145\n",
            "====> Epoch: 59 Average loss: 116.0550\n",
            "Train Epoch: 60 [0/1000 (0%)]\tLoss: 126.936104\n",
            "====> Epoch: 60 Average loss: 116.6498\n",
            "Train Epoch: 61 [0/1000 (0%)]\tLoss: 125.880241\n",
            "====> Epoch: 61 Average loss: 114.7221\n",
            "Train Epoch: 62 [0/1000 (0%)]\tLoss: 128.167450\n",
            "====> Epoch: 62 Average loss: 115.3868\n",
            "Train Epoch: 63 [0/1000 (0%)]\tLoss: 129.169113\n",
            "====> Epoch: 63 Average loss: 113.9253\n",
            "Train Epoch: 64 [0/1000 (0%)]\tLoss: 126.863091\n",
            "====> Epoch: 64 Average loss: 113.5684\n",
            "Train Epoch: 65 [0/1000 (0%)]\tLoss: 133.982437\n",
            "====> Epoch: 65 Average loss: 113.8557\n",
            "Train Epoch: 66 [0/1000 (0%)]\tLoss: 128.234512\n",
            "====> Epoch: 66 Average loss: 112.5148\n",
            "Train Epoch: 67 [0/1000 (0%)]\tLoss: 129.195007\n",
            "====> Epoch: 67 Average loss: 112.5228\n",
            "Train Epoch: 68 [0/1000 (0%)]\tLoss: 126.206917\n",
            "====> Epoch: 68 Average loss: 111.4008\n",
            "Train Epoch: 69 [0/1000 (0%)]\tLoss: 120.683601\n",
            "====> Epoch: 69 Average loss: 111.3430\n",
            "Train Epoch: 70 [0/1000 (0%)]\tLoss: 120.723099\n",
            "====> Epoch: 70 Average loss: 110.9081\n",
            "Train Epoch: 71 [0/1000 (0%)]\tLoss: 122.586128\n",
            "====> Epoch: 71 Average loss: 109.9071\n",
            "Train Epoch: 72 [0/1000 (0%)]\tLoss: 122.662697\n",
            "====> Epoch: 72 Average loss: 109.6810\n",
            "Train Epoch: 73 [0/1000 (0%)]\tLoss: 122.148643\n",
            "====> Epoch: 73 Average loss: 108.8109\n",
            "Train Epoch: 74 [0/1000 (0%)]\tLoss: 118.513863\n",
            "====> Epoch: 74 Average loss: 108.8161\n",
            "Train Epoch: 75 [0/1000 (0%)]\tLoss: 118.858444\n",
            "====> Epoch: 75 Average loss: 108.6269\n",
            "Train Epoch: 76 [0/1000 (0%)]\tLoss: 127.253334\n",
            "====> Epoch: 76 Average loss: 108.0995\n",
            "Train Epoch: 77 [0/1000 (0%)]\tLoss: 121.309174\n",
            "====> Epoch: 77 Average loss: 107.8385\n",
            "Train Epoch: 78 [0/1000 (0%)]\tLoss: 120.599472\n",
            "====> Epoch: 78 Average loss: 107.8302\n",
            "Train Epoch: 79 [0/1000 (0%)]\tLoss: 119.595856\n",
            "====> Epoch: 79 Average loss: 107.6260\n",
            "Train Epoch: 80 [0/1000 (0%)]\tLoss: 122.015518\n",
            "====> Epoch: 80 Average loss: 107.2655\n",
            "Train Epoch: 81 [0/1000 (0%)]\tLoss: 116.721809\n",
            "====> Epoch: 81 Average loss: 107.0686\n",
            "Train Epoch: 82 [0/1000 (0%)]\tLoss: 114.310173\n",
            "====> Epoch: 82 Average loss: 106.7150\n",
            "Train Epoch: 83 [0/1000 (0%)]\tLoss: 118.012039\n",
            "====> Epoch: 83 Average loss: 106.7299\n",
            "Train Epoch: 84 [0/1000 (0%)]\tLoss: 115.936523\n",
            "====> Epoch: 84 Average loss: 105.6648\n",
            "Train Epoch: 85 [0/1000 (0%)]\tLoss: 112.842239\n",
            "====> Epoch: 85 Average loss: 105.9425\n",
            "Train Epoch: 86 [0/1000 (0%)]\tLoss: 116.278046\n",
            "====> Epoch: 86 Average loss: 105.4023\n",
            "Train Epoch: 87 [0/1000 (0%)]\tLoss: 115.307861\n",
            "====> Epoch: 87 Average loss: 105.3909\n",
            "Train Epoch: 88 [0/1000 (0%)]\tLoss: 117.204918\n",
            "====> Epoch: 88 Average loss: 105.0627\n",
            "Train Epoch: 89 [0/1000 (0%)]\tLoss: 116.817520\n",
            "====> Epoch: 89 Average loss: 104.3985\n",
            "Train Epoch: 90 [0/1000 (0%)]\tLoss: 113.873672\n",
            "====> Epoch: 90 Average loss: 104.3459\n",
            "Train Epoch: 91 [0/1000 (0%)]\tLoss: 109.043526\n",
            "====> Epoch: 91 Average loss: 103.8886\n",
            "Train Epoch: 92 [0/1000 (0%)]\tLoss: 120.401848\n",
            "====> Epoch: 92 Average loss: 103.3994\n",
            "Train Epoch: 93 [0/1000 (0%)]\tLoss: 114.035110\n",
            "====> Epoch: 93 Average loss: 103.4290\n",
            "Train Epoch: 94 [0/1000 (0%)]\tLoss: 112.630386\n",
            "====> Epoch: 94 Average loss: 103.5267\n",
            "Train Epoch: 95 [0/1000 (0%)]\tLoss: 111.966446\n",
            "====> Epoch: 95 Average loss: 102.2238\n",
            "Train Epoch: 96 [0/1000 (0%)]\tLoss: 117.990845\n",
            "====> Epoch: 96 Average loss: 102.7990\n",
            "Train Epoch: 97 [0/1000 (0%)]\tLoss: 115.860504\n",
            "====> Epoch: 97 Average loss: 102.9638\n",
            "Train Epoch: 98 [0/1000 (0%)]\tLoss: 116.803566\n",
            "====> Epoch: 98 Average loss: 102.6890\n",
            "Train Epoch: 99 [0/1000 (0%)]\tLoss: 112.740410\n",
            "====> Epoch: 99 Average loss: 102.0398\n",
            "Train Epoch: 100 [0/1000 (0%)]\tLoss: 109.861565\n",
            "====> Epoch: 100 Average loss: 101.5585\n",
            "Train Epoch: 101 [0/1000 (0%)]\tLoss: 113.588676\n",
            "====> Epoch: 101 Average loss: 102.3452\n",
            "Train Epoch: 102 [0/1000 (0%)]\tLoss: 116.821007\n",
            "====> Epoch: 102 Average loss: 101.1991\n",
            "Train Epoch: 103 [0/1000 (0%)]\tLoss: 113.079529\n",
            "====> Epoch: 103 Average loss: 100.8150\n",
            "Train Epoch: 104 [0/1000 (0%)]\tLoss: 113.902603\n",
            "====> Epoch: 104 Average loss: 100.4602\n",
            "Train Epoch: 105 [0/1000 (0%)]\tLoss: 116.015671\n",
            "====> Epoch: 105 Average loss: 100.8315\n",
            "Train Epoch: 106 [0/1000 (0%)]\tLoss: 114.527367\n",
            "====> Epoch: 106 Average loss: 100.5049\n",
            "Train Epoch: 107 [0/1000 (0%)]\tLoss: 110.501343\n",
            "====> Epoch: 107 Average loss: 100.2312\n",
            "Train Epoch: 108 [0/1000 (0%)]\tLoss: 105.572639\n",
            "====> Epoch: 108 Average loss: 100.3085\n",
            "Train Epoch: 109 [0/1000 (0%)]\tLoss: 108.572693\n",
            "====> Epoch: 109 Average loss: 99.8032\n",
            "Train Epoch: 110 [0/1000 (0%)]\tLoss: 103.026520\n",
            "====> Epoch: 110 Average loss: 100.1111\n",
            "Train Epoch: 111 [0/1000 (0%)]\tLoss: 113.368988\n",
            "====> Epoch: 111 Average loss: 99.7593\n",
            "Train Epoch: 112 [0/1000 (0%)]\tLoss: 108.742325\n",
            "====> Epoch: 112 Average loss: 99.1012\n",
            "Train Epoch: 113 [0/1000 (0%)]\tLoss: 109.183914\n",
            "====> Epoch: 113 Average loss: 98.8537\n",
            "Train Epoch: 114 [0/1000 (0%)]\tLoss: 110.804214\n",
            "====> Epoch: 114 Average loss: 98.7771\n",
            "Train Epoch: 115 [0/1000 (0%)]\tLoss: 108.968910\n",
            "====> Epoch: 115 Average loss: 97.7855\n",
            "Train Epoch: 116 [0/1000 (0%)]\tLoss: 111.248581\n",
            "====> Epoch: 116 Average loss: 97.9306\n",
            "Train Epoch: 117 [0/1000 (0%)]\tLoss: 107.526779\n",
            "====> Epoch: 117 Average loss: 98.0006\n",
            "Train Epoch: 118 [0/1000 (0%)]\tLoss: 108.131004\n",
            "====> Epoch: 118 Average loss: 98.3884\n",
            "Train Epoch: 119 [0/1000 (0%)]\tLoss: 108.937660\n",
            "====> Epoch: 119 Average loss: 97.4486\n",
            "Train Epoch: 120 [0/1000 (0%)]\tLoss: 109.860161\n",
            "====> Epoch: 120 Average loss: 97.3397\n",
            "Train Epoch: 121 [0/1000 (0%)]\tLoss: 106.475525\n",
            "====> Epoch: 121 Average loss: 97.2070\n",
            "Train Epoch: 122 [0/1000 (0%)]\tLoss: 113.623558\n",
            "====> Epoch: 122 Average loss: 97.2004\n",
            "Train Epoch: 123 [0/1000 (0%)]\tLoss: 110.320145\n",
            "====> Epoch: 123 Average loss: 97.0894\n",
            "Train Epoch: 124 [0/1000 (0%)]\tLoss: 107.695465\n",
            "====> Epoch: 124 Average loss: 97.1234\n",
            "Train Epoch: 125 [0/1000 (0%)]\tLoss: 112.767899\n",
            "====> Epoch: 125 Average loss: 96.7558\n",
            "Train Epoch: 126 [0/1000 (0%)]\tLoss: 106.596283\n",
            "====> Epoch: 126 Average loss: 95.9705\n",
            "Train Epoch: 127 [0/1000 (0%)]\tLoss: 108.608353\n",
            "====> Epoch: 127 Average loss: 96.1016\n",
            "Train Epoch: 128 [0/1000 (0%)]\tLoss: 106.247902\n",
            "====> Epoch: 128 Average loss: 96.2583\n",
            "Train Epoch: 129 [0/1000 (0%)]\tLoss: 109.725250\n",
            "====> Epoch: 129 Average loss: 95.7846\n",
            "Train Epoch: 130 [0/1000 (0%)]\tLoss: 108.414597\n",
            "====> Epoch: 130 Average loss: 95.3033\n",
            "Train Epoch: 131 [0/1000 (0%)]\tLoss: 107.253677\n",
            "====> Epoch: 131 Average loss: 95.8220\n",
            "Train Epoch: 132 [0/1000 (0%)]\tLoss: 104.752083\n",
            "====> Epoch: 132 Average loss: 95.2499\n",
            "Train Epoch: 133 [0/1000 (0%)]\tLoss: 105.728012\n",
            "====> Epoch: 133 Average loss: 95.4654\n",
            "Train Epoch: 134 [0/1000 (0%)]\tLoss: 108.455933\n",
            "====> Epoch: 134 Average loss: 94.8418\n",
            "Train Epoch: 135 [0/1000 (0%)]\tLoss: 107.932014\n",
            "====> Epoch: 135 Average loss: 94.9714\n",
            "Train Epoch: 136 [0/1000 (0%)]\tLoss: 104.211143\n",
            "====> Epoch: 136 Average loss: 94.4714\n",
            "Train Epoch: 137 [0/1000 (0%)]\tLoss: 106.017426\n",
            "====> Epoch: 137 Average loss: 94.6096\n",
            "Train Epoch: 138 [0/1000 (0%)]\tLoss: 102.914146\n",
            "====> Epoch: 138 Average loss: 93.8239\n",
            "Train Epoch: 139 [0/1000 (0%)]\tLoss: 104.999657\n",
            "====> Epoch: 139 Average loss: 93.7041\n",
            "Train Epoch: 140 [0/1000 (0%)]\tLoss: 99.230087\n",
            "====> Epoch: 140 Average loss: 93.8147\n",
            "Train Epoch: 141 [0/1000 (0%)]\tLoss: 104.975609\n",
            "====> Epoch: 141 Average loss: 93.3367\n",
            "Train Epoch: 142 [0/1000 (0%)]\tLoss: 106.391357\n",
            "====> Epoch: 142 Average loss: 93.9440\n",
            "Train Epoch: 143 [0/1000 (0%)]\tLoss: 102.080170\n",
            "====> Epoch: 143 Average loss: 93.4719\n",
            "Train Epoch: 144 [0/1000 (0%)]\tLoss: 105.685890\n",
            "====> Epoch: 144 Average loss: 93.4143\n",
            "Train Epoch: 145 [0/1000 (0%)]\tLoss: 107.008064\n",
            "====> Epoch: 145 Average loss: 92.7947\n",
            "Train Epoch: 146 [0/1000 (0%)]\tLoss: 101.932869\n",
            "====> Epoch: 146 Average loss: 93.0931\n",
            "Train Epoch: 147 [0/1000 (0%)]\tLoss: 105.001617\n",
            "====> Epoch: 147 Average loss: 93.0686\n",
            "Train Epoch: 148 [0/1000 (0%)]\tLoss: 101.962418\n",
            "====> Epoch: 148 Average loss: 92.3821\n",
            "Train Epoch: 149 [0/1000 (0%)]\tLoss: 103.653168\n",
            "====> Epoch: 149 Average loss: 93.1954\n"
          ]
        }
      ],
      "source": [
        "# now train the model\n",
        "for epoch in range(0, n_epochs):\n",
        "  train_vae(vae_model,mnist_train_loader,epoch)"
      ]
    },
    {
      "attachments": {},
      "cell_type": "markdown",
      "metadata": {
        "id": "uTfRje_AkKDr"
      },
      "source": [
        "Now, generate some images with the VAE model"
      ]
    },
    {
      "cell_type": "code",
      "execution_count": 78,
      "metadata": {
        "id": "41tXdNsFkKk5"
      },
      "outputs": [
        {
          "data": {
            "image/png": "[encoded data removed]",
            "text/plain": [
              "<Figure size 640x480 with 5 Axes>"
            ]
          },
          "metadata": {},
          "output_type": "display_data"
        }
      ],
      "source": [
        "def generate_images_vae(vae_model,n_images = 5):\n",
        "\n",
        "  epsilon = torch.randn(n_images,vae_model.z_dim)\n",
        "  imgs_generated = F.sigmoid(vae_model.decoder(epsilon)).view(-1, n_channels, n_rows, n_cols)\n",
        "  return(imgs_generated)\n",
        "\n",
        "imgs_generated = generate_images_vae(vae_model,n_images=5)\n",
        "display_images(imgs_generated)"
      ]
    },
    {
      "attachments": {},
      "cell_type": "markdown",
      "metadata": {
        "id": "lGnvKoynzaFN"
      },
      "source": [
        "Do you think the results are better ? What difference can you see ? What advantage does the Variational Autoencoder have over the simple autoencoder model, even though the second autoencoder approach has a more complex probabilistic latent model (a full covariance matrix) ?"
      ]
    },
    {
      "attachments": {},
      "cell_type": "markdown",
      "metadata": {
        "id": "uuYn3_PBzjkI"
      },
      "source": [
        "__Answer__ Le résultat est assez décevant : on a un résultat qui semble certes plus \"lisse\", mais les chiffres sont beaucoup moins lisibles. Cet exemple ne doit pas être le meilleur exemple d'application. "
      ]
    },
    {
      "attachments": {},
      "cell_type": "markdown",
      "metadata": {
        "id": "uXm-D9Ef9vYm"
      },
      "source": [
        "We will now compare the models quantitavely."
      ]
    },
    {
      "attachments": {},
      "cell_type": "markdown",
      "metadata": {
        "id": "04MddkzuE324"
      },
      "source": [
        "# 3 Evaluating and comparing the models\n",
        "\n",
        "We will evaluate the models, in the following manner:\n",
        "\n",
        "- we train a simple convolutional neural network classifier on mnist, to a good accuracy\n",
        "- we generate images with each model\n",
        "- we find the average of the highest probability of the images according to the classifier, for each model. If this value is high, it means that on average the classifier considers that the images look like a \n",
        "\n",
        "We will use the following convoluional architecture for the classifier:\n",
        "\n",
        "- conv2d, filter size  3×3 , 32 filters, stride=(2,2), padding=\"SAME\"\n",
        "- ReLU\n",
        "- conv2d, filter size  3×3 , 32 filters, stride=(2,2), padding=\"SAME\"\n",
        "- ReLU\n",
        "- MaxPool2D, stride=(2,2)\n",
        "- Flatten\n",
        "- Dense layer\n",
        "\n",
        "Now, define the model. To make things easier, use the ```torch.nn.Sequential``` API (there is no need for a Class in this simple case)."
      ]
    },
    {
      "cell_type": "code",
      "execution_count": 80,
      "metadata": {
        "id": "P87a-DkXFOCv"
      },
      "outputs": [],
      "source": [
        "learning_rate = 0.01\n",
        "n_epochs = 20\n",
        "batch_size = 64\n",
        "nb_classes = int(mnist_trainset.targets.max()+1)\n",
        "\n",
        "# number of convolutional filters to use\n",
        "nb_filters = 32\n",
        "# convolution kernel size\n",
        "kernel_size = (3, 3)\n",
        "# size of pooling area for max pooling\n",
        "pool_size = (2, 2)\n",
        "\n",
        "# --- Size of the successive layers\n",
        "n_h_0 = 1 #greyscale input images\n",
        "n_h_1 = nb_filters\n",
        "n_h_2 = nb_filters\n",
        "\n",
        "mnist_classification_model = torch.nn.Sequential(\n",
        "    torch.nn.Conv2d(n_h_0, n_h_1, kernel_size, padding=0, stride=1),\n",
        "    torch.nn.ReLU(),\n",
        "    torch.nn.Conv2d(n_h_1, n_h_2, kernel_size, padding=0, stride=1),\n",
        "    torch.nn.ReLU(),\n",
        "    torch.nn.MaxPool2d(pool_size),\n",
        "    torch.nn.Flatten(),\n",
        "    torch.nn.Linear(12*12*nb_filters, nb_classes))\n",
        "    \n",
        "\n",
        "criterion = torch.nn.CrossEntropyLoss()\n",
        "optimizer = torch.optim.Adam(mnist_classification_model.parameters(), lr=learning_rate)"
      ]
    },
    {
      "attachments": {},
      "cell_type": "markdown",
      "metadata": {
        "id": "_sUZONxw2bnt"
      },
      "source": [
        "Create a function to calculate accuracy, instead of loss"
      ]
    },
    {
      "cell_type": "code",
      "execution_count": 81,
      "metadata": {
        "id": "aOww0ydr2fT0"
      },
      "outputs": [],
      "source": [
        "def get_accuracy(x_pred,x_label):\n",
        "  acc = torch.sum(x_pred == x_label)/(x_pred.shape[0])\n",
        "  return acc"
      ]
    },
    {
      "attachments": {},
      "cell_type": "markdown",
      "metadata": {
        "id": "qw0vkZIqFcse"
      },
      "source": [
        "Now, train the model. You should be able to achieve an accuracy close to 1.00 within 20 epochs"
      ]
    },
    {
      "cell_type": "code",
      "execution_count": 82,
      "metadata": {
        "id": "0FA8YoX2FcHP"
      },
      "outputs": [
        {
          "name": "stdout",
          "output_type": "stream",
          "text": [
            "Epoch:0 Train Loss:0.0164 Accuracy:0.4297\n",
            "Epoch:1 Train Loss:0.0075 Accuracy:0.7109\n",
            "Epoch:2 Train Loss:0.0034 Accuracy:0.8594\n",
            "Epoch:3 Train Loss:0.0033 Accuracy:0.8750\n",
            "Epoch:4 Train Loss:0.0030 Accuracy:0.8672\n",
            "Epoch:5 Train Loss:0.0017 Accuracy:0.9219\n",
            "Epoch:6 Train Loss:0.0016 Accuracy:0.9219\n",
            "Epoch:7 Train Loss:0.0019 Accuracy:0.9219\n",
            "Epoch:8 Train Loss:0.0013 Accuracy:0.9375\n",
            "Epoch:9 Train Loss:0.0010 Accuracy:0.9609\n",
            "Epoch:10 Train Loss:0.0008 Accuracy:0.9844\n",
            "Epoch:11 Train Loss:0.0002 Accuracy:0.9922\n",
            "Epoch:12 Train Loss:0.0002 Accuracy:1.0000\n",
            "Epoch:13 Train Loss:0.0002 Accuracy:1.0000\n",
            "Epoch:14 Train Loss:0.0001 Accuracy:1.0000\n",
            "Epoch:15 Train Loss:0.0000 Accuracy:1.0000\n",
            "Epoch:16 Train Loss:0.0000 Accuracy:1.0000\n",
            "Epoch:17 Train Loss:0.0001 Accuracy:1.0000\n",
            "Epoch:18 Train Loss:0.0000 Accuracy:1.0000\n",
            "Epoch:19 Train Loss:0.0000 Accuracy:1.0000\n"
          ]
        }
      ],
      "source": [
        "train_losses=[]\n",
        "valid_losses=[]\n",
        "\n",
        "for epoch in range(0,n_epochs):\n",
        "  train_loss=0.0\n",
        "\n",
        "  for batch_idx, (imgs, labels) in enumerate(mnist_train_loader):\n",
        "\n",
        "    # set the gradients back to 0\n",
        "    optimizer.zero_grad()\n",
        "    predict=mnist_classification_model(imgs)\n",
        "    # apply loss function\n",
        "    loss=criterion(predict,labels)\n",
        "    acc = get_accuracy(torch.argmax(predict,dim=1),labels)\n",
        "    # backpropagation\n",
        "    loss.backward()\n",
        "    optimizer.step()\n",
        "    train_loss=loss.item()\n",
        "  print('Epoch:{} Train Loss:{:.4f} Accuracy:{:.4f}'.format(epoch,train_loss/imgs.shape[0],acc))"
      ]
    },
    {
      "attachments": {},
      "cell_type": "markdown",
      "metadata": {
        "id": "zFgN5LblFwTa"
      },
      "source": [
        "### Evaluate the average maximum prediction of the images generated by each generative model (higher is better)\n",
        "\n",
        "Now, we will evaluate the models. For each ones, produce a certain number of images, and put those images through the classification network. Then find the maximum class probability of each image, and average it over all the images. We will use this as a metric to evaluate each model.\n",
        "\n",
        "__CAREFUL__: the output of the network does __not__ include the Softmax layer, so you will have to carry it out, with:\n",
        "- ```torch.nn.Softmax()(...)```\n",
        "\n",
        "Define this metric now:"
      ]
    },
    {
      "cell_type": "code",
      "execution_count": 83,
      "metadata": {
        "id": "lCJ_0qqjOXHT"
      },
      "outputs": [],
      "source": [
        "def generative_model_score(imgs_in,classification_model):\n",
        "  gen_score = torch.mean(torch.max(torch.nn.Softmax()(classification_model.forward(imgs_in)),dim=1)[0])\n",
        "  return(gen_score)"
      ]
    },
    {
      "attachments": {},
      "cell_type": "markdown",
      "metadata": {
        "id": "yGq7YFg51UoP"
      },
      "source": [
        "Now, generate some images with each of the three models, and evaluate these models:"
      ]
    },
    {
      "cell_type": "code",
      "execution_count": 84,
      "metadata": {
        "id": "4-L4u2jhILFx"
      },
      "outputs": [
        {
          "name": "stdout",
          "output_type": "stream",
          "text": [
            "Diagonal gaussian generative model score :  0.8916351795196533\n",
            "Non diagonal gaussian generative model score :  0.8713433742523193\n",
            "Variational autoencoder model score:  0.8786630034446716\n"
          ]
        },
        {
          "name": "stderr",
          "output_type": "stream",
          "text": [
            "C:\\Users\\jeann\\AppData\\Local\\Temp\\ipykernel_9788\\563189896.py:2: UserWarning: Implicit dimension choice for softmax has been deprecated. Change the call to include dim=X as an argument.\n",
            "  gen_score = torch.mean(torch.max(torch.nn.Softmax()(classification_model.forward(imgs_in)),dim=1)[0])\n"
          ]
        }
      ],
      "source": [
        "imgs_diagonal_gaussian = generate_images_diagonal_gaussian(ae_model,z_average,z_sigma,n_images = 50)\n",
        "imgs_non_diagonal_gaussian = generate_images_non_diagonal_gaussian(ae_model,z_average,z_covariance,n_images = 50)\n",
        "imgs_vae = generate_images_vae(vae_model,n_images=50)\n",
        "\n",
        "# average of maximum of first model \n",
        "diagonal_gaussian_score = float(generative_model_score(imgs_diagonal_gaussian,mnist_classification_model))\n",
        "non_diagonal_gaussian_score = float(generative_model_score(imgs_non_diagonal_gaussian,mnist_classification_model))\n",
        "vae_gaussian_score = float(generative_model_score(imgs_vae,mnist_classification_model))\n",
        "\n",
        "print(\"Diagonal gaussian generative model score : \",diagonal_gaussian_score)\n",
        "print(\"Non diagonal gaussian generative model score : \",non_diagonal_gaussian_score)\n",
        "print(\"Variational autoencoder model score: \",vae_gaussian_score) "
      ]
    },
    {
      "attachments": {},
      "cell_type": "markdown",
      "metadata": {
        "id": "sxvsG8FC1gNS"
      },
      "source": [
        "Please answer the following questions:\n",
        "\n",
        "- Which model is better quantitatively ? \n",
        "- Do the quantitative result support the qualitative results ?\n",
        "- Can you see any drawbacks of this method of evaluation ?\n",
        "- Can you propose any more sophisticated models than the multivariate Gaussian approach (apart from the variational autoencoder) ? "
      ]
    },
    {
      "attachments": {},
      "cell_type": "markdown",
      "metadata": {
        "id": "3SYCyfKR3G7Y"
      },
      "source": [
        "__Answer__\n",
        "\n",
        "- Le modèle diagonal gaussien est le meilleur quantitativement.\n",
        "- Cela confirme les observations précédentes."
      ]
    }
  ],
  "metadata": {
    "accelerator": "GPU",
    "colab": {
      "provenance": []
    },
    "kernelspec": {
      "display_name": "Python 3",
      "name": "python3"
    },
    "language_info": {
      "codemirror_mode": {
        "name": "ipython",
        "version": 3
      },
      "file_extension": ".py",
      "mimetype": "text/x-python",
      "name": "python",
      "nbconvert_exporter": "python",
      "pygments_lexer": "ipython3",
      "version": "3.10.11"
    }
  },
  "nbformat": 4,
  "nbformat_minor": 0
}
